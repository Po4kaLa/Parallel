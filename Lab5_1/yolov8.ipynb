{
 "cells": [
  {
   "cell_type": "code",
   "execution_count": 1,
   "metadata": {},
   "outputs": [
    {
     "name": "stderr",
     "output_type": "stream",
     "text": [
      "c:\\Users\\Po4ka\\AppData\\Local\\Programs\\Python\\Python311\\Lib\\site-packages\\tqdm\\auto.py:21: TqdmWarning: IProgress not found. Please update jupyter and ipywidgets. See https://ipywidgets.readthedocs.io/en/stable/user_install.html\n",
      "  from .autonotebook import tqdm as notebook_tqdm\n"
     ]
    }
   ],
   "source": [
    "import cv2  \n",
    "import threading  \n",
    "import time  \n",
    "from ultralytics import YOLO  \n",
    "from queue import Queue \n",
    "\n"
   ]
  },
  {
   "cell_type": "code",
   "execution_count": 5,
   "metadata": {},
   "outputs": [],
   "source": [
    "model = YOLO(\"yolov8n-pose.pt\") \n",
    "cap = cv2.VideoCapture(\"popit-vodichki.mp4\")\n",
    "start_time = time.time()\n",
    "while cap.isOpened():\n",
    "    ret, frame = cap.read()\n",
    "    \n",
    "    if ret:\n",
    "        results = model(frame, imgsz=[640, 480], save=False, verbose=False)\n",
    "        annotated_frames = results[0].plot()\n",
    "        # cv2.imshow(\"Inference\", cv2.resize(annotated_frames, (640, 480)))\n",
    "        # cv2.imshow(\"Inference\", annotated_frames)\n",
    "           \n",
    "        if cv2.waitKey(1) & 0xFF == ord('q'):\n",
    "            break\n",
    "    else:\n",
    "        break\n",
    "end_time = time.time()\n",
    "time_single = end_time - start_time\n",
    "cap.release()\n",
    "cv2.destroyAllWindows()"
   ]
  },
  {
   "cell_type": "code",
   "execution_count": 5,
   "metadata": {},
   "outputs": [
    {
     "name": "stdout",
     "output_type": "stream",
     "text": [
      "576 1024\n"
     ]
    }
   ],
   "source": [
    "\n",
    "model = YOLO(\"yolov8n-pose.pt\") \n",
    "cap = cv2.VideoCapture(\"popit-vodichki.mp4\")\n",
    "width = int(cap.get(cv2.CAP_PROP_FRAME_WIDTH))\n",
    "height = int(cap.get(cv2.CAP_PROP_FRAME_HEIGHT))\n",
    "print(width, height)\n",
    "\n",
    "fourcc = cv2.VideoWriter_fourcc(*'mp4v') \n",
    "out = cv2.VideoWriter(\"output_video_single.mp4\", fourcc, 30.0, (width, height))\n",
    "start_time = time.time()\n",
    "while cap.isOpened():\n",
    "    ret, frame = cap.read()\n",
    "    \n",
    "    if ret:\n",
    "        results = results = model(frame, save=False, verbose=False) \n",
    "        annotated_frames = results[0].plot()\n",
    "        out.write(annotated_frames)\n",
    "        # if cv2.waitKey(1) & 0xFF == ord('q'):\n",
    "        #     break\n",
    "    else:\n",
    "        break\n",
    "end_time = time.time()\n",
    "time_single = end_time - start_time\n",
    "cap.release()\n",
    "cv2.destroyAllWindows()\n"
   ]
  },
  {
   "cell_type": "markdown",
   "metadata": {},
   "source": [
    "# Single_no_resize_imshow"
   ]
  },
  {
   "cell_type": "code",
   "execution_count": 4,
   "metadata": {},
   "outputs": [
    {
     "data": {
      "text/plain": [
       "42.29179930686951"
      ]
     },
     "execution_count": 4,
     "metadata": {},
     "output_type": "execute_result"
    }
   ],
   "source": [
    "time_single"
   ]
  },
  {
   "cell_type": "markdown",
   "metadata": {},
   "source": [
    "# Single_resize_imshow"
   ]
  },
  {
   "cell_type": "code",
   "execution_count": 6,
   "metadata": {},
   "outputs": [
    {
     "data": {
      "text/plain": [
       "37.35465431213379"
      ]
     },
     "execution_count": 6,
     "metadata": {},
     "output_type": "execute_result"
    }
   ],
   "source": [
    "time_single"
   ]
  },
  {
   "cell_type": "markdown",
   "metadata": {},
   "source": [
    "# Single_save_no_imshow"
   ]
  },
  {
   "cell_type": "code",
   "execution_count": 9,
   "metadata": {},
   "outputs": [
    {
     "name": "stdout",
     "output_type": "stream",
     "text": [
      "\n",
      "WARNING ⚠️ inference results will accumulate in RAM unless `stream=True` is passed, causing potential out-of-memory\n",
      "errors for large sources or long-running streams and videos. See https://docs.ultralytics.com/modes/predict/ for help.\n",
      "\n",
      "Example:\n",
      "    results = model(source=..., stream=True)  # generator of Results objects\n",
      "    for r in results:\n",
      "        boxes = r.boxes  # Boxes object for bbox outputs\n",
      "        masks = r.masks  # Masks object for segment masks outputs\n",
      "        probs = r.probs  # Class probabilities for classification outputs\n",
      "\n",
      "Results saved to \u001b[1mruns\\pose\\predict2\u001b[0m\n"
     ]
    }
   ],
   "source": [
    "model = YOLO(\"yolov8n-pose.pt\") \n",
    "video_path = \"popit-vodichki.mp4\"\n",
    "start_time = time.time()\n",
    "results = model(video_path, save=True, verbose=False)\n",
    "\n",
    "end_time = time.time()\n",
    "time_single = end_time - start_time"
   ]
  },
  {
   "cell_type": "code",
   "execution_count": 10,
   "metadata": {},
   "outputs": [],
   "source": [
    "video_path = \"popit-vodichki.mp4\"\n",
    "cap = cv2.VideoCapture(video_path)\n",
    "frames = []\n",
    "while cap.isOpened():\n",
    "    ret, frame = cap.read()\n",
    "    if not ret:\n",
    "        break\n",
    "    frames.append(frame)\n",
    "cap.release()"
   ]
  },
  {
   "cell_type": "code",
   "execution_count": 15,
   "metadata": {},
   "outputs": [
    {
     "data": {
      "text/plain": [
       "(1024, 576, 3)"
      ]
     },
     "execution_count": 15,
     "metadata": {},
     "output_type": "execute_result"
    }
   ],
   "source": [
    "frames[0].shape"
   ]
  },
  {
   "cell_type": "code",
   "execution_count": 11,
   "metadata": {},
   "outputs": [
    {
     "data": {
      "text/plain": [
       "381"
      ]
     },
     "execution_count": 11,
     "metadata": {},
     "output_type": "execute_result"
    }
   ],
   "source": [
    "len(frames)"
   ]
  },
  {
   "cell_type": "code",
   "execution_count": 21,
   "metadata": {},
   "outputs": [
    {
     "name": "stdout",
     "output_type": "stream",
     "text": [
      "(1024, 576, 3)\n"
     ]
    },
    {
     "ename": "IndexError",
     "evalue": "list index out of range",
     "output_type": "error",
     "traceback": [
      "\u001b[1;31m---------------------------------------------------------------------------\u001b[0m",
      "\u001b[1;31mIndexError\u001b[0m                                Traceback (most recent call last)",
      "Cell \u001b[1;32mIn[21], line 9\u001b[0m\n\u001b[0;32m      7\u001b[0m \u001b[38;5;28;01mfor\u001b[39;00m i \u001b[38;5;129;01min\u001b[39;00m \u001b[38;5;28mrange\u001b[39m(num_threads):\n\u001b[0;32m      8\u001b[0m     chunk \u001b[38;5;241m=\u001b[39m frames[i \u001b[38;5;241m*\u001b[39m chunk_size: (i \u001b[38;5;241m+\u001b[39m \u001b[38;5;241m1\u001b[39m) \u001b[38;5;241m*\u001b[39m chunk_size] \u001b[38;5;28;01mif\u001b[39;00m i \u001b[38;5;241m<\u001b[39m num_threads \u001b[38;5;241m-\u001b[39m \u001b[38;5;241m1\u001b[39m \u001b[38;5;28;01melse\u001b[39;00m frames[i \u001b[38;5;241m*\u001b[39m chunk_size:]\n\u001b[1;32m----> 9\u001b[0m     \u001b[38;5;28mprint\u001b[39m(\u001b[43mchunk\u001b[49m\u001b[43m[\u001b[49m\u001b[38;5;241;43m0\u001b[39;49m\u001b[43m]\u001b[49m\u001b[38;5;241m.\u001b[39mshape)\n",
      "\u001b[1;31mIndexError\u001b[0m: list index out of range"
     ]
    }
   ],
   "source": [
    "num_threads = 2\n",
    "chunk_size = len(frames)\n",
    "threads = []\n",
    "\n",
    "start_time = time.time()\n",
    "\n",
    "for i in range(num_threads):\n",
    "    chunk = frames[i * chunk_size: (i + 1) * chunk_size] if i < num_threads - 1 else frames[i * chunk_size:]\n",
    "    print(chunk[0].shape)"
   ]
  },
  {
   "cell_type": "markdown",
   "metadata": {},
   "source": [
    "# Threading_Queue_dict num_thread = 4"
   ]
  },
  {
   "cell_type": "code",
   "execution_count": 3,
   "metadata": {},
   "outputs": [
    {
     "data": {
      "text/plain": [
       "52.26506447792053"
      ]
     },
     "execution_count": 3,
     "metadata": {},
     "output_type": "execute_result"
    }
   ],
   "source": [
    "def process_video_multi_thread(video_path, num_threads):    \n",
    "    cap = cv2.VideoCapture(video_path)    \n",
    "    frames = []    \n",
    "        \n",
    "    while cap.isOpened():    \n",
    "        ret, frame = cap.read()    \n",
    "        if not ret:    \n",
    "            break    \n",
    "        frames.append(frame)    \n",
    "    cap.release()    \n",
    "\n",
    "    results_dict = {}  \n",
    "\n",
    "    def worker(frame_queue):    \n",
    "        model = YOLO(\"yolov8n-pose.pt\")   \n",
    "        while True: \n",
    "            index, frame = frame_queue.get() \n",
    "            if frame is None: \n",
    "                break \n",
    "            results = model(frame, save=False, verbose=False)   \n",
    "            annotated_frame = results[0].plot()   \n",
    "            results_dict[index] = annotated_frame  \n",
    "            frame_queue.task_done() \n",
    "\n",
    "    frame_queue = Queue(maxsize=0) \n",
    "     \n",
    "    threads = [] \n",
    "    for i in range(num_threads):    \n",
    "        thread = threading.Thread(target=worker, args=(frame_queue,))    \n",
    "        threads.append(thread)    \n",
    "        thread.start()    \n",
    "\n",
    "    start_time = time.time()    \n",
    "\n",
    "    for index, frame in enumerate(frames): \n",
    "        frame_queue.put((index, frame))  \n",
    "\n",
    "    frame_queue.join() \n",
    "\n",
    "    for _ in range(num_threads): \n",
    "        frame_queue.put((None, None)) \n",
    "\n",
    "    for thread in threads:    \n",
    "        thread.join()\n",
    "\n",
    "    height, width, _ = frames[0].shape\n",
    "    fourcc = cv2.VideoWriter_fourcc(*'mp4v') \n",
    "    out = cv2.VideoWriter(\"output_video.mp4\", fourcc, 30.0, (width, height))\n",
    "\n",
    "    delay = int(1000/30) \n",
    "    for index in range(len(frames)): \n",
    "        out.write(results_dict[index])\n",
    "        cv2.imshow(\"Inference\", results_dict[index]) \n",
    "        cv2.waitKey(delay)   \n",
    "\n",
    "    cv2.destroyAllWindows()    \n",
    "    end_time = time.time()    \n",
    "    return end_time - start_time   \n",
    "\n",
    "process_video_multi_thread(\"popit-vodichki.mp4\", num_threads=4)\n"
   ]
  },
  {
   "cell_type": "code",
   "execution_count": 3,
   "metadata": {},
   "outputs": [
    {
     "data": {
      "text/plain": [
       "64.263512134552"
      ]
     },
     "execution_count": 3,
     "metadata": {},
     "output_type": "execute_result"
    }
   ],
   "source": [
    "process_video_multi_thread(\"popit-vodichki.mp4\", num_threads=2)"
   ]
  },
  {
   "cell_type": "code",
   "execution_count": 4,
   "metadata": {},
   "outputs": [
    {
     "data": {
      "text/plain": [
       "48.03016233444214"
      ]
     },
     "execution_count": 4,
     "metadata": {},
     "output_type": "execute_result"
    }
   ],
   "source": [
    "process_video_multi_thread(\"popit-vodichki.mp4\", num_threads=6)"
   ]
  },
  {
   "cell_type": "code",
   "execution_count": 5,
   "metadata": {},
   "outputs": [
    {
     "data": {
      "text/plain": [
       "47.78323197364807"
      ]
     },
     "execution_count": 5,
     "metadata": {},
     "output_type": "execute_result"
    }
   ],
   "source": [
    "process_video_multi_thread(\"popit-vodichki.mp4\", num_threads=12)"
   ]
  },
  {
   "cell_type": "code",
   "execution_count": 6,
   "metadata": {},
   "outputs": [
    {
     "name": "stderr",
     "output_type": "stream",
     "text": [
      "Exception in thread Exception in thread Thread-79 (worker):\n",
      "Traceback (most recent call last):\n",
      "  File \"c:\\Users\\Po4ka\\AppData\\Local\\Programs\\Python\\Python311\\Lib\\threading.py\", line 1038, in _bootstrap_inner\n",
      "Exception in thread Thread-76 (worker):\n",
      "Traceback (most recent call last):\n",
      "  File \"c:\\Users\\Po4ka\\AppData\\Local\\Programs\\Python\\Python311\\Lib\\threading.py\", line 1038, in _bootstrap_inner\n",
      "Exception in thread Thread-55 (worker):\n",
      "Traceback (most recent call last):\n",
      "  File \"c:\\Users\\Po4ka\\AppData\\Local\\Programs\\Python\\Python311\\Lib\\threading.py\", line 1038, in _bootstrap_inner\n",
      "Exception in thread Thread-45 (worker):\n",
      "Traceback (most recent call last):\n",
      "  File \"c:\\Users\\Po4ka\\AppData\\Local\\Programs\\Python\\Python311\\Lib\\threading.py\", line 1038, in _bootstrap_inner\n",
      "Exception in thread Thread-71 (worker):\n",
      "Traceback (most recent call last):\n",
      "  File \"c:\\Users\\Po4ka\\AppData\\Local\\Programs\\Python\\Python311\\Lib\\threading.py\", line 1038, in _bootstrap_inner\n",
      "Exception in thread Thread-97 (worker):\n",
      "Traceback (most recent call last):\n",
      "  File \"c:\\Users\\Po4ka\\AppData\\Local\\Programs\\Python\\Python311\\Lib\\threading.py\", line 1038, in _bootstrap_inner\n",
      "Exception in thread Thread-77 (worker):\n",
      "Traceback (most recent call last):\n",
      "  File \"c:\\Users\\Po4ka\\AppData\\Local\\Programs\\Python\\Python311\\Lib\\threading.py\", line 1038, in _bootstrap_inner\n",
      "Exception in thread Thread-135 (worker):\n",
      "Traceback (most recent call last):\n",
      "  File \"c:\\Users\\Po4ka\\AppData\\Local\\Programs\\Python\\Python311\\Lib\\threading.py\", line 1038, in _bootstrap_inner\n",
      "Exception in thread Thread-103 (worker):\n",
      "Traceback (most recent call last):\n",
      "  File \"c:\\Users\\Po4ka\\AppData\\Local\\Programs\\Python\\Python311\\Lib\\threading.py\", line 1038, in _bootstrap_inner\n",
      "Exception in thread Thread-48 (worker):\n",
      "Traceback (most recent call last):\n",
      "  File \"c:\\Users\\Po4ka\\AppData\\Local\\Programs\\Python\\Python311\\Lib\\threading.py\", line 1038, in _bootstrap_inner\n",
      "Exception in thread Thread-109 (worker):\n",
      "Traceback (most recent call last):\n",
      "  File \"c:\\Users\\Po4ka\\AppData\\Local\\Programs\\Python\\Python311\\Lib\\threading.py\", line 1038, in _bootstrap_inner\n",
      "Exception in thread Thread-59 (worker):\n",
      "Traceback (most recent call last):\n",
      "  File \"c:\\Users\\Po4ka\\AppData\\Local\\Programs\\Python\\Python311\\Lib\\threading.py\", line 1038, in _bootstrap_inner\n",
      "Exception in thread Thread-134 (worker):\n",
      "Traceback (most recent call last):\n",
      "  File \"c:\\Users\\Po4ka\\AppData\\Local\\Programs\\Python\\Python311\\Lib\\threading.py\", line 1038, in _bootstrap_inner\n",
      "Exception in thread Thread-50 (worker):\n",
      "Traceback (most recent call last):\n",
      "  File \"c:\\Users\\Po4ka\\AppData\\Local\\Programs\\Python\\Python311\\Lib\\threading.py\", line 1038, in _bootstrap_inner\n",
      "Exception in thread Thread-119 (worker):\n",
      "Traceback (most recent call last):\n",
      "  File \"c:\\Users\\Po4ka\\AppData\\Local\\Programs\\Python\\Python311\\Lib\\threading.py\", line 1038, in _bootstrap_inner\n",
      "Exception in thread Thread-126 (worker):\n",
      "Traceback (most recent call last):\n",
      "  File \"c:\\Users\\Po4ka\\AppData\\Local\\Programs\\Python\\Python311\\Lib\\threading.py\", line 1038, in _bootstrap_inner\n",
      "Exception in thread Thread-70 (worker):\n",
      "Traceback (most recent call last):\n",
      "  File \"c:\\Users\\Po4ka\\AppData\\Local\\Programs\\Python\\Python311\\Lib\\threading.py\", line 1038, in _bootstrap_inner\n",
      "Exception in thread Thread-74 (worker):\n",
      "Traceback (most recent call last):\n",
      "  File \"c:\\Users\\Po4ka\\AppData\\Local\\Programs\\Python\\Python311\\Lib\\threading.py\", line 1038, in _bootstrap_inner\n",
      "Exception in thread Thread-54 (worker):\n",
      "Traceback (most recent call last):\n",
      "  File \"c:\\Users\\Po4ka\\AppData\\Local\\Programs\\Python\\Python311\\Lib\\threading.py\", line 1038, in _bootstrap_inner\n",
      "Exception in thread Thread-106 (worker):\n",
      "Traceback (most recent call last):\n",
      "  File \"c:\\Users\\Po4ka\\AppData\\Local\\Programs\\Python\\Python311\\Lib\\threading.py\", line 1038, in _bootstrap_inner\n",
      "Exception in thread Thread-75 (worker):\n",
      "Traceback (most recent call last):\n",
      "  File \"c:\\Users\\Po4ka\\AppData\\Local\\Programs\\Python\\Python311\\Lib\\threading.py\", line 1038, in _bootstrap_inner\n",
      "Exception in thread Thread-143 (worker):\n",
      "Traceback (most recent call last):\n",
      "  File \"c:\\Users\\Po4ka\\AppData\\Local\\Programs\\Python\\Python311\\Lib\\threading.py\", line 1038, in _bootstrap_inner\n",
      "Exception in thread Thread-117 (worker):\n",
      "Traceback (most recent call last):\n",
      "  File \"c:\\Users\\Po4ka\\AppData\\Local\\Programs\\Python\\Python311\\Lib\\threading.py\", line 1038, in _bootstrap_inner\n",
      "    self.run()\n",
      "  File \"c:\\Users\\Po4ka\\AppData\\Local\\Programs\\Python\\Python311\\Lib\\threading.py\", line 975, in run\n",
      "    self.run()\n",
      "  File \"c:\\Users\\Po4ka\\AppData\\Local\\Programs\\Python\\Python311\\Lib\\threading.py\", line 975, in run\n",
      "    self.run()\n",
      "  File \"c:\\Users\\Po4ka\\AppData\\Local\\Programs\\Python\\Python311\\Lib\\threading.py\", line 975, in run\n",
      "    self.run()\n",
      "  File \"c:\\Users\\Po4ka\\AppData\\Local\\Programs\\Python\\Python311\\Lib\\threading.py\", line 975, in run\n",
      "    self.run()\n",
      "  File \"c:\\Users\\Po4ka\\AppData\\Local\\Programs\\Python\\Python311\\Lib\\threading.py\", line 975, in run\n",
      "    self.run()\n",
      "  File \"c:\\Users\\Po4ka\\AppData\\Local\\Programs\\Python\\Python311\\Lib\\threading.py\", line 975, in run\n",
      "    self.run()\n",
      "  File \"c:\\Users\\Po4ka\\AppData\\Local\\Programs\\Python\\Python311\\Lib\\threading.py\", line 975, in run\n",
      "    self.run()\n",
      "  File \"c:\\Users\\Po4ka\\AppData\\Local\\Programs\\Python\\Python311\\Lib\\threading.py\", line 975, in run\n",
      "    self.run()\n",
      "  File \"c:\\Users\\Po4ka\\AppData\\Local\\Programs\\Python\\Python311\\Lib\\threading.py\", line 975, in run\n",
      "    self.run()\n",
      "  File \"c:\\Users\\Po4ka\\AppData\\Local\\Programs\\Python\\Python311\\Lib\\threading.py\", line 975, in run\n",
      "    self.run()\n",
      "  File \"c:\\Users\\Po4ka\\AppData\\Local\\Programs\\Python\\Python311\\Lib\\threading.py\", line 975, in run\n",
      "    self.run()\n",
      "  File \"c:\\Users\\Po4ka\\AppData\\Local\\Programs\\Python\\Python311\\Lib\\threading.py\", line 975, in run\n",
      "    self.run()\n",
      "  File \"c:\\Users\\Po4ka\\AppData\\Local\\Programs\\Python\\Python311\\Lib\\threading.py\", line 975, in run\n",
      "    self.run()\n",
      "  File \"c:\\Users\\Po4ka\\AppData\\Local\\Programs\\Python\\Python311\\Lib\\threading.py\", line 975, in run\n",
      "    self.run()\n",
      "  File \"c:\\Users\\Po4ka\\AppData\\Local\\Programs\\Python\\Python311\\Lib\\threading.py\", line 975, in run\n",
      "    self.run()\n",
      "  File \"c:\\Users\\Po4ka\\AppData\\Local\\Programs\\Python\\Python311\\Lib\\threading.py\", line 975, in run\n",
      "    self._target(*self._args, **self._kwargs)\n",
      "  File \"C:\\Users\\Po4ka\\AppData\\Local\\Temp\\ipykernel_3828\\2726065126.py\", line 26, in worker\n",
      "    self._target(*self._args, **self._kwargs)\n",
      "  File \"C:\\Users\\Po4ka\\AppData\\Local\\Temp\\ipykernel_3828\\2726065126.py\", line 26, in worker\n",
      "    self._target(*self._args, **self._kwargs)\n",
      "  File \"C:\\Users\\Po4ka\\AppData\\Local\\Temp\\ipykernel_3828\\2726065126.py\", line 26, in worker\n",
      "    self.run()\n",
      "  File \"c:\\Users\\Po4ka\\AppData\\Local\\Programs\\Python\\Python311\\Lib\\threading.py\", line 975, in run\n",
      "    self.run()\n",
      "  File \"c:\\Users\\Po4ka\\AppData\\Local\\Programs\\Python\\Python311\\Lib\\threading.py\", line 975, in run\n",
      "    self.run()\n",
      "  File \"c:\\Users\\Po4ka\\AppData\\Local\\Programs\\Python\\Python311\\Lib\\threading.py\", line 975, in run\n",
      "Thread-49 (worker):\n",
      "Traceback (most recent call last):\n",
      "  File \"c:\\Users\\Po4ka\\AppData\\Local\\Programs\\Python\\Python311\\Lib\\threading.py\", line 1038, in _bootstrap_inner\n",
      "    self._target(*self._args, **self._kwargs)\n",
      "  File \"C:\\Users\\Po4ka\\AppData\\Local\\Temp\\ipykernel_3828\\2726065126.py\", line 26, in worker\n",
      "    self.run()\n",
      "  File \"c:\\Users\\Po4ka\\AppData\\Local\\Programs\\Python\\Python311\\Lib\\threading.py\", line 975, in run\n",
      "    self.run()\n",
      "  File \"c:\\Users\\Po4ka\\AppData\\Local\\Programs\\Python\\Python311\\Lib\\threading.py\", line 975, in run\n",
      "    self._target(*self._args, **self._kwargs)\n",
      "  File \"C:\\Users\\Po4ka\\AppData\\Local\\Temp\\ipykernel_3828\\2726065126.py\", line 26, in worker\n",
      "    self._target(*self._args, **self._kwargs)\n",
      "  File \"C:\\Users\\Po4ka\\AppData\\Local\\Temp\\ipykernel_3828\\2726065126.py\", line 26, in worker\n",
      "    self._target(*self._args, **self._kwargs)\n",
      "  File \"C:\\Users\\Po4ka\\AppData\\Local\\Temp\\ipykernel_3828\\2726065126.py\", line 26, in worker\n",
      "    self.run()\n",
      "  File \"c:\\Users\\Po4ka\\AppData\\Local\\Programs\\Python\\Python311\\Lib\\threading.py\", line 975, in run\n",
      "    self._target(*self._args, **self._kwargs)\n",
      "  File \"C:\\Users\\Po4ka\\AppData\\Local\\Temp\\ipykernel_3828\\2726065126.py\", line 26, in worker\n",
      "    self._target(*self._args, **self._kwargs)\n",
      "  File \"C:\\Users\\Po4ka\\AppData\\Local\\Temp\\ipykernel_3828\\2726065126.py\", line 26, in worker\n",
      "    self._target(*self._args, **self._kwargs)\n",
      "  File \"C:\\Users\\Po4ka\\AppData\\Local\\Temp\\ipykernel_3828\\2726065126.py\", line 26, in worker\n",
      "    self._target(*self._args, **self._kwargs)\n",
      "  File \"C:\\Users\\Po4ka\\AppData\\Local\\Temp\\ipykernel_3828\\2726065126.py\", line 26, in worker\n",
      "    self._target(*self._args, **self._kwargs)\n",
      "  File \"C:\\Users\\Po4ka\\AppData\\Local\\Temp\\ipykernel_3828\\2726065126.py\", line 26, in worker\n",
      "    self._target(*self._args, **self._kwargs)\n",
      "  File \"C:\\Users\\Po4ka\\AppData\\Local\\Temp\\ipykernel_3828\\2726065126.py\", line 26, in worker\n",
      "    self._target(*self._args, **self._kwargs)\n",
      "  File \"C:\\Users\\Po4ka\\AppData\\Local\\Temp\\ipykernel_3828\\2726065126.py\", line 26, in worker\n",
      "    self._target(*self._args, **self._kwargs)\n",
      "  File \"C:\\Users\\Po4ka\\AppData\\Local\\Temp\\ipykernel_3828\\2726065126.py\", line 26, in worker\n",
      "    self._target(*self._args, **self._kwargs)\n",
      "  File \"C:\\Users\\Po4ka\\AppData\\Local\\Temp\\ipykernel_3828\\2726065126.py\", line 26, in worker\n",
      "  File \"c:\\Users\\Po4ka\\AppData\\Local\\Programs\\Python\\Python311\\Lib\\site-packages\\ultralytics\\engine\\model.py\", line 169, in __call__\n",
      "  File \"c:\\Users\\Po4ka\\AppData\\Local\\Programs\\Python\\Python311\\Lib\\site-packages\\ultralytics\\engine\\model.py\", line 169, in __call__\n",
      "  File \"c:\\Users\\Po4ka\\AppData\\Local\\Programs\\Python\\Python311\\Lib\\site-packages\\ultralytics\\engine\\model.py\", line 169, in __call__\n",
      "    self._target(*self._args, **self._kwargs)\n",
      "  File \"C:\\Users\\Po4ka\\AppData\\Local\\Temp\\ipykernel_3828\\2726065126.py\", line 26, in worker\n",
      "  File \"c:\\Users\\Po4ka\\AppData\\Local\\Programs\\Python\\Python311\\Lib\\site-packages\\ultralytics\\engine\\model.py\", line 169, in __call__\n",
      "    self._target(*self._args, **self._kwargs)\n",
      "  File \"C:\\Users\\Po4ka\\AppData\\Local\\Temp\\ipykernel_3828\\2726065126.py\", line 26, in worker\n",
      "  File \"c:\\Users\\Po4ka\\AppData\\Local\\Programs\\Python\\Python311\\Lib\\site-packages\\ultralytics\\engine\\model.py\", line 169, in __call__\n",
      "    self.run()\n",
      "  File \"c:\\Users\\Po4ka\\AppData\\Local\\Programs\\Python\\Python311\\Lib\\threading.py\", line 975, in run\n",
      "    self._target(*self._args, **self._kwargs)\n",
      "  File \"C:\\Users\\Po4ka\\AppData\\Local\\Temp\\ipykernel_3828\\2726065126.py\", line 26, in worker\n",
      "    self.run()\n",
      "  File \"c:\\Users\\Po4ka\\AppData\\Local\\Programs\\Python\\Python311\\Lib\\threading.py\", line 975, in run\n",
      "    self._target(*self._args, **self._kwargs)\n",
      "  File \"C:\\Users\\Po4ka\\AppData\\Local\\Temp\\ipykernel_3828\\2726065126.py\", line 26, in worker\n",
      "  File \"c:\\Users\\Po4ka\\AppData\\Local\\Programs\\Python\\Python311\\Lib\\site-packages\\ultralytics\\engine\\model.py\", line 169, in __call__\n",
      "    self._target(*self._args, **self._kwargs)\n",
      "  File \"C:\\Users\\Po4ka\\AppData\\Local\\Temp\\ipykernel_3828\\2726065126.py\", line 26, in worker\n",
      "    return self.predict(source, stream, **kwargs)\n",
      "           ^^^^^^^^^^^^^^^^^^^^^^^^^^^^^^^^^^^^^^\n",
      "  File \"c:\\Users\\Po4ka\\AppData\\Local\\Programs\\Python\\Python311\\Lib\\site-packages\\ultralytics\\engine\\model.py\", line 439, in predict\n",
      "  File \"c:\\Users\\Po4ka\\AppData\\Local\\Programs\\Python\\Python311\\Lib\\site-packages\\ultralytics\\engine\\model.py\", line 169, in __call__\n",
      "  File \"c:\\Users\\Po4ka\\AppData\\Local\\Programs\\Python\\Python311\\Lib\\site-packages\\ultralytics\\engine\\model.py\", line 169, in __call__\n",
      "  File \"c:\\Users\\Po4ka\\AppData\\Local\\Programs\\Python\\Python311\\Lib\\site-packages\\ultralytics\\engine\\model.py\", line 169, in __call__\n",
      "  File \"c:\\Users\\Po4ka\\AppData\\Local\\Programs\\Python\\Python311\\Lib\\site-packages\\ultralytics\\engine\\model.py\", line 169, in __call__\n",
      "  File \"c:\\Users\\Po4ka\\AppData\\Local\\Programs\\Python\\Python311\\Lib\\site-packages\\ultralytics\\engine\\model.py\", line 169, in __call__\n",
      "  File \"c:\\Users\\Po4ka\\AppData\\Local\\Programs\\Python\\Python311\\Lib\\site-packages\\ultralytics\\engine\\model.py\", line 169, in __call__\n",
      "  File \"c:\\Users\\Po4ka\\AppData\\Local\\Programs\\Python\\Python311\\Lib\\site-packages\\ultralytics\\engine\\model.py\", line 169, in __call__\n",
      "    self._target(*self._args, **self._kwargs)\n",
      "  File \"C:\\Users\\Po4ka\\AppData\\Local\\Temp\\ipykernel_3828\\2726065126.py\", line 26, in worker\n",
      "  File \"c:\\Users\\Po4ka\\AppData\\Local\\Programs\\Python\\Python311\\Lib\\site-packages\\ultralytics\\engine\\model.py\", line 169, in __call__\n",
      "    return self.predictor.predict_cli(source=source) if is_cli else self.predictor(source=source, stream=stream)\n",
      "                                                                    ^^^^^^^^^^^^^^^^^^^^^^^^^^^^^^^^^^^^^^^^^^^^\n",
      "  File \"c:\\Users\\Po4ka\\AppData\\Local\\Programs\\Python\\Python311\\Lib\\site-packages\\ultralytics\\engine\\predictor.py\", line 168, in __call__\n",
      "    return self.predict(source, stream, **kwargs)\n",
      "           ^^^^^^^^^^^^^^^^^^^^^^^^^^^^^^^^^^^^^^\n",
      "  File \"c:\\Users\\Po4ka\\AppData\\Local\\Programs\\Python\\Python311\\Lib\\site-packages\\ultralytics\\engine\\model.py\", line 439, in predict\n",
      "    self._target(*self._args, **self._kwargs)\n",
      "  File \"C:\\Users\\Po4ka\\AppData\\Local\\Temp\\ipykernel_3828\\2726065126.py\", line 26, in worker\n",
      "    return self.predict(source, stream, **kwargs)\n",
      "           ^^^^^^^^^^^^^^^^^^^^^^^^^^^^^^^^^^^^^^\n",
      "  File \"c:\\Users\\Po4ka\\AppData\\Local\\Programs\\Python\\Python311\\Lib\\site-packages\\ultralytics\\engine\\model.py\", line 439, in predict\n",
      "    return self.predict(source, stream, **kwargs)\n",
      "           ^^^^^^^^^^^^^^^^^^^^^^^^^^^^^^^^^^^^^^\n",
      "  File \"c:\\Users\\Po4ka\\AppData\\Local\\Programs\\Python\\Python311\\Lib\\site-packages\\ultralytics\\engine\\model.py\", line 439, in predict\n",
      "    return self.predict(source, stream, **kwargs)\n",
      "           ^^^^^^^^^^^^^^^^^^^^^^^^^^^^^^^^^^^^^^\n",
      "  File \"c:\\Users\\Po4ka\\AppData\\Local\\Programs\\Python\\Python311\\Lib\\site-packages\\ultralytics\\engine\\model.py\", line 439, in predict\n",
      "    return self.predict(source, stream, **kwargs)\n",
      "           ^^^^^^^^^^^^^^^^^^^^^^^^^^^^^^^^^^^^^^\n",
      "  File \"c:\\Users\\Po4ka\\AppData\\Local\\Programs\\Python\\Python311\\Lib\\site-packages\\ultralytics\\engine\\model.py\", line 439, in predict\n",
      "    return self.predict(source, stream, **kwargs)\n",
      "           ^^^^^^^^^^^^^^^^^^^^^^^^^^^^^^^^^^^^^^\n",
      "  File \"c:\\Users\\Po4ka\\AppData\\Local\\Programs\\Python\\Python311\\Lib\\site-packages\\ultralytics\\engine\\model.py\", line 439, in predict\n",
      "    return self.predict(source, stream, **kwargs)\n",
      "           ^^^^^^^^^^^^^^^^^^^^^^^^^^^^^^^^^^^^^^\n",
      "  File \"c:\\Users\\Po4ka\\AppData\\Local\\Programs\\Python\\Python311\\Lib\\site-packages\\ultralytics\\engine\\model.py\", line 439, in predict\n",
      "    return self.predict(source, stream, **kwargs)\n",
      "           ^^^^^^^^^^^^^^^^^^^^^^^^^^^^^^^^^^^^^^\n",
      "  File \"c:\\Users\\Po4ka\\AppData\\Local\\Programs\\Python\\Python311\\Lib\\site-packages\\ultralytics\\engine\\model.py\", line 439, in predict\n",
      "    return self.predict(source, stream, **kwargs)\n",
      "           ^^^^^^^^^^^^^^^^^^^^^^^^^^^^^^^^^^^^^^\n",
      "  File \"c:\\Users\\Po4ka\\AppData\\Local\\Programs\\Python\\Python311\\Lib\\site-packages\\ultralytics\\engine\\model.py\", line 439, in predict\n"
     ]
    },
    {
     "ename": "",
     "evalue": "",
     "output_type": "error",
     "traceback": [
      "\u001b[1;31mThe Kernel crashed while executing code in the current cell or a previous cell. \n",
      "\u001b[1;31mPlease review the code in the cell(s) to identify a possible cause of the failure. \n",
      "\u001b[1;31mClick <a href='https://aka.ms/vscodeJupyterKernelCrash'>here</a> for more info. \n",
      "\u001b[1;31mView Jupyter <a href='command:jupyter.viewOutput'>log</a> for further details."
     ]
    }
   ],
   "source": [
    "process_video_multi_thread(\"popit-vodichki.mp4\", num_threads=30)"
   ]
  },
  {
   "cell_type": "code",
   "execution_count": null,
   "metadata": {},
   "outputs": [],
   "source": []
  }
 ],
 "metadata": {
  "kernelspec": {
   "display_name": "Python 3",
   "language": "python",
   "name": "python3"
  },
  "language_info": {
   "codemirror_mode": {
    "name": "ipython",
    "version": 3
   },
   "file_extension": ".py",
   "mimetype": "text/x-python",
   "name": "python",
   "nbconvert_exporter": "python",
   "pygments_lexer": "ipython3",
   "version": "3.11.5"
  }
 },
 "nbformat": 4,
 "nbformat_minor": 2
}
